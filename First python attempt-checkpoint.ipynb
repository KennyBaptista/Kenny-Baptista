{
 "cells": [
  {
   "cell_type": "code",
   "execution_count": 1,
   "id": "e07db0d6",
   "metadata": {},
   "outputs": [],
   "source": [
    "Int=10\n",
    "Flt=20.0\n",
    "B=True\n",
    "S=\"Kenny\""
   ]
  },
  {
   "cell_type": "code",
   "execution_count": 8,
   "id": "a634291c",
   "metadata": {},
   "outputs": [
    {
     "name": "stdout",
     "output_type": "stream",
     "text": [
      "Kenny\n"
     ]
    }
   ],
   "source": [
    "print (S)"
   ]
  },
  {
   "cell_type": "code",
   "execution_count": 14,
   "id": "0822e93a",
   "metadata": {},
   "outputs": [
    {
     "data": {
      "text/plain": [
       "10"
      ]
     },
     "execution_count": 14,
     "metadata": {},
     "output_type": "execute_result"
    }
   ],
   "source": [
    "Int"
   ]
  },
  {
   "cell_type": "code",
   "execution_count": 5,
   "id": "4651de77",
   "metadata": {},
   "outputs": [
    {
     "data": {
      "text/plain": [
       "20.0"
      ]
     },
     "execution_count": 5,
     "metadata": {},
     "output_type": "execute_result"
    }
   ],
   "source": [
    "Flt"
   ]
  },
  {
   "cell_type": "code",
   "execution_count": 13,
   "id": "89485f56",
   "metadata": {},
   "outputs": [
    {
     "data": {
      "text/plain": [
       "30.0"
      ]
     },
     "execution_count": 13,
     "metadata": {},
     "output_type": "execute_result"
    }
   ],
   "source": [
    "Int+Flt"
   ]
  },
  {
   "cell_type": "code",
   "execution_count": 10,
   "id": "f14fdaa3",
   "metadata": {},
   "outputs": [
    {
     "data": {
      "text/plain": [
       "True"
      ]
     },
     "execution_count": 10,
     "metadata": {},
     "output_type": "execute_result"
    }
   ],
   "source": [
    "B"
   ]
  },
  {
   "cell_type": "code",
   "execution_count": 11,
   "id": "509b8cf9",
   "metadata": {},
   "outputs": [
    {
     "name": "stdout",
     "output_type": "stream",
     "text": [
      "<class 'int'>\n",
      "<class 'float'>\n",
      "<class 'bool'>\n",
      "<class 'str'>\n"
     ]
    }
   ],
   "source": [
    "print(type(Int))\n",
    "print(type(Flt))\n",
    "print(type(B))\n",
    "print(type(S))"
   ]
  },
  {
   "cell_type": "code",
   "execution_count": 15,
   "id": "a6dd0148",
   "metadata": {},
   "outputs": [
    {
     "data": {
      "text/plain": [
       "10.0"
      ]
     },
     "execution_count": 15,
     "metadata": {},
     "output_type": "execute_result"
    }
   ],
   "source": [
    "float(Int)"
   ]
  },
  {
   "cell_type": "code",
   "execution_count": 19,
   "id": "42aa021a",
   "metadata": {},
   "outputs": [
    {
     "data": {
      "text/plain": [
       "'20.0'"
      ]
     },
     "execution_count": 19,
     "metadata": {},
     "output_type": "execute_result"
    }
   ],
   "source": [
    "str(Flt)"
   ]
  },
  {
   "cell_type": "code",
   "execution_count": 28,
   "id": "5b77465b",
   "metadata": {},
   "outputs": [
    {
     "data": {
      "text/plain": [
       "10.0"
      ]
     },
     "execution_count": 28,
     "metadata": {},
     "output_type": "execute_result"
    }
   ],
   "source": [
    "float(Int)"
   ]
  },
  {
   "cell_type": "code",
   "execution_count": 29,
   "id": "8d2707e6",
   "metadata": {},
   "outputs": [
    {
     "data": {
      "text/plain": [
       "1"
      ]
     },
     "execution_count": 29,
     "metadata": {},
     "output_type": "execute_result"
    }
   ],
   "source": [
    "int(B)"
   ]
  },
  {
   "cell_type": "code",
   "execution_count": 30,
   "id": "a7cb3ca0",
   "metadata": {},
   "outputs": [
    {
     "data": {
      "text/plain": [
       "20"
      ]
     },
     "execution_count": 30,
     "metadata": {},
     "output_type": "execute_result"
    }
   ],
   "source": [
    "int(Flt)"
   ]
  },
  {
   "cell_type": "code",
   "execution_count": 31,
   "id": "fad9ee8b",
   "metadata": {},
   "outputs": [
    {
     "data": {
      "text/plain": [
       "1.0"
      ]
     },
     "execution_count": 31,
     "metadata": {},
     "output_type": "execute_result"
    }
   ],
   "source": [
    "float(B)"
   ]
  },
  {
   "cell_type": "code",
   "execution_count": 32,
   "id": "df051446",
   "metadata": {},
   "outputs": [
    {
     "data": {
      "text/plain": [
       "True"
      ]
     },
     "execution_count": 32,
     "metadata": {},
     "output_type": "execute_result"
    }
   ],
   "source": [
    "bool(S)"
   ]
  },
  {
   "cell_type": "code",
   "execution_count": null,
   "id": "17f34b10",
   "metadata": {},
   "outputs": [],
   "source": []
  }
 ],
 "metadata": {
  "kernelspec": {
   "display_name": "Python 3",
   "language": "python",
   "name": "python3"
  },
  "language_info": {
   "codemirror_mode": {
    "name": "ipython",
    "version": 3
   },
   "file_extension": ".py",
   "mimetype": "text/x-python",
   "name": "python",
   "nbconvert_exporter": "python",
   "pygments_lexer": "ipython3",
   "version": "3.8.8"
  }
 },
 "nbformat": 4,
 "nbformat_minor": 5
}
